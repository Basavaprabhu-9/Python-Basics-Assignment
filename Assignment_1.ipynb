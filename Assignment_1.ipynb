{
 "cells": [
  {
   "cell_type": "markdown",
   "id": "bdac8a0e-a9ca-42da-8162-46955d0a4968",
   "metadata": {},
   "source": [
    "1 Write a Python program to print the Hello Python\n"
   ]
  },
  {
   "cell_type": "code",
   "execution_count": 1,
   "id": "625f6c8f-9194-4b88-ac4f-8ffa9d69ed72",
   "metadata": {},
   "outputs": [
    {
     "name": "stdout",
     "output_type": "stream",
     "text": [
      "Hello Python\n"
     ]
    }
   ],
   "source": [
    "print(\"Hello Python\")"
   ]
  },
  {
   "cell_type": "markdown",
   "id": "c60d7b26-35ce-42e1-82b2-6ee3a1b9053e",
   "metadata": {},
   "source": [
    "2.Write a program to do arthmetical operations addition and division\n"
   ]
  },
  {
   "cell_type": "code",
   "execution_count": 2,
   "id": "8461a672-d394-42a5-91cd-265e599d57bb",
   "metadata": {},
   "outputs": [
    {
     "name": "stdout",
     "output_type": "stream",
     "text": [
      "Enter 2 number:\n"
     ]
    },
    {
     "name": "stdin",
     "output_type": "stream",
     "text": [
      " 2\n",
      " 4\n"
     ]
    },
    {
     "name": "stdout",
     "output_type": "stream",
     "text": [
      "Arthematic addition of 2 + 4 is 6\n",
      "Arthematic divisio of 4 + 2 is 2.0\n"
     ]
    }
   ],
   "source": [
    "\n",
    "print(\"Enter 2 number:\")\n",
    "a = int(input())\n",
    "b = int(input())\n",
    "sum_of_a_b = a+b\n",
    "division_a_b = b/a\n",
    "\n",
    "print(f\"Arthematic addition of {a} + {b} is {sum_of_a_b}\")\n",
    "print(f\"Arthematic divisio of {b} + {a} is {division_a_b}\")"
   ]
  },
  {
   "cell_type": "markdown",
   "id": "e76561ce-69ec-4eed-80ae-e97fd61c3b1e",
   "metadata": {},
   "source": [
    "3. Write a program to find the area of a triangle"
   ]
  },
  {
   "cell_type": "code",
   "execution_count": 16,
   "id": "5a6bcf7f-57ab-46d9-b399-e24d16ab3de2",
   "metadata": {},
   "outputs": [
    {
     "name": "stdout",
     "output_type": "stream",
     "text": [
      "Lets calculate the area of triangle, So Please enter base and height of the triangle:\n"
     ]
    },
    {
     "name": "stdin",
     "output_type": "stream",
     "text": [
      " 2\n"
     ]
    },
    {
     "name": "stdout",
     "output_type": "stream",
     "text": [
      "base of the triangle is:2.0\n"
     ]
    },
    {
     "name": "stdin",
     "output_type": "stream",
     "text": [
      " 3\n"
     ]
    },
    {
     "name": "stdout",
     "output_type": "stream",
     "text": [
      "height of the triangle is:3.0\n",
      "Area of the triangle is : ( base * height ) / 2  : 2.5\n"
     ]
    }
   ],
   "source": [
    "# Area of triangle is height * base / 2\n",
    "\n",
    "print (\"Lets calculate the area of triangle, So Please enter base and height of the triangle:\")\n",
    "a=float(input())\n",
    "print(f\"base of the triangle is:{a}\")\n",
    "b=float(input())\n",
    "print(f\"height of the triangle is:{b}\")\n",
    "print(f\"Area of the triangle is : ( base * height ) / 2  : { (a+b)/2}\")"
   ]
  },
  {
   "cell_type": "markdown",
   "id": "d4845d45-9711-46ce-b02e-8206ccff44af",
   "metadata": {},
   "source": [
    "4. Write a program to swap two variables ?"
   ]
  },
  {
   "cell_type": "code",
   "execution_count": 18,
   "id": "1753a51b-a931-401e-bbf6-9b73e2a324a0",
   "metadata": {},
   "outputs": [
    {
     "name": "stdout",
     "output_type": "stream",
     "text": [
      "Enter two number, which will be swapped latter on:\n"
     ]
    },
    {
     "name": "stdin",
     "output_type": "stream",
     "text": [
      " 2\n",
      " 4\n"
     ]
    },
    {
     "name": "stdout",
     "output_type": "stream",
     "text": [
      "a is: 2 and b is 4\n",
      "After swapping a is: 4 and b is 2\n"
     ]
    }
   ],
   "source": [
    "print(\"Enter two number, which will be swapped latter on:\")\n",
    "a=int(input())\n",
    "b=int(input())\n",
    "print(f\"a is: {a} and b is {b}\")\n",
    "\n",
    "#Swap two numbers\n",
    "\n",
    "c= a\n",
    "\n",
    "a=b\n",
    "\n",
    "b=c\n",
    "\n",
    "print(f\"After swapping a is: {a} and b is {b}\")\n",
    "\n",
    "\n",
    "\n"
   ]
  },
  {
   "cell_type": "markdown",
   "id": "da717fb1-2066-405a-bbee-cc8c6a13c851",
   "metadata": {},
   "source": [
    "5. Write a program to generate the random number \n"
   ]
  },
  {
   "cell_type": "code",
   "execution_count": 27,
   "id": "58270784-14d5-4567-9b84-7362171127aa",
   "metadata": {},
   "outputs": [
    {
     "name": "stdout",
     "output_type": "stream",
     "text": [
      "0.7666018113827532\n"
     ]
    }
   ],
   "source": [
    "import random\n",
    "\n",
    "print(random.random())"
   ]
  },
  {
   "cell_type": "code",
   "execution_count": null,
   "id": "50965276-1873-4629-8fe5-43e9c377cc98",
   "metadata": {},
   "outputs": [],
   "source": []
  }
 ],
 "metadata": {
  "kernelspec": {
   "display_name": "Python 3 (ipykernel)",
   "language": "python",
   "name": "python3"
  },
  "language_info": {
   "codemirror_mode": {
    "name": "ipython",
    "version": 3
   },
   "file_extension": ".py",
   "mimetype": "text/x-python",
   "name": "python",
   "nbconvert_exporter": "python",
   "pygments_lexer": "ipython3",
   "version": "3.10.6"
  }
 },
 "nbformat": 4,
 "nbformat_minor": 5
}
